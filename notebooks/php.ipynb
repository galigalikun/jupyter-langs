{
 "cells": [
  {
   "cell_type": "code",
   "execution_count": null,
   "metadata": {},
   "outputs": [],
   "source": [
    "PHP_VERSION_ID"
   ]
  },
  {
   "cell_type": "code",
   "execution_count": null,
   "metadata": {},
   "outputs": [],
   "source": [
    "echo 'Hello World'"
   ]
  }
 ],
 "metadata": {
  "language_info": {
   "display_name": "php 8.0.11",
   "language": "php",
   "name": "php"
  },
  "language_info": {
   "file_extension": ".php",
   "mimetype": "application/x-php",
   "name": "php",
   "version": "8.0.11"
  },
  "orig_nbformat": 4
 },
 "nbformat": 4,
 "nbformat_minor": 2
}
